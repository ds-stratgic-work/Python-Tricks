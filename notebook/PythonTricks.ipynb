{
 "cells": [
  {
   "cell_type": "markdown",
   "id": "dfacfae1-fa02-427e-a9fe-1210fdd8ea39",
   "metadata": {},
   "source": [
    "# Accelerate the Python Code with These 9 Subtle Yet Effective Tricks.\n",
    "    \n"
   ]
  },
  {
   "cell_type": "markdown",
   "id": "9689188d-8832-4bf1-bd70-4bcc9f148d76",
   "metadata": {},
   "source": [
    "# Table Of Contents\n",
    "[1. String Concatenation](#1.String_Concatenation)\\\n",
    "[2. List Creation](#2.List_Creation)\\\n",
    "[3. Set Over a List](#3.Set_Over_a_List)\\\n",
    "[4. Comprehensions Over For Loops](#4.-Comprehensions_Over_For_Loops)\\\n",
    "[5.Prioritize Local Variables](#5.Prioritize_Local_Variables)\\\n",
    "[6. Prioritize Built-In Modules and Libraries](#6.-Prioritize_Built-In_Modules_and_Libraries)\\\n",
    "[7. Leverage Cache Decorator](#7.-Leverage_Cache_Decorator)\\\n",
    "[8.“while 1” Over “while True”](#8.-while_1_Over_while_True)\\\n",
    "[9. Smart Import](#9.-Smart_Import)\n",
    " "
   ]
  },
  {
   "cell_type": "markdown",
   "id": "fd5f19c6-123f-47ed-806e-5927c167ed51",
   "metadata": {},
   "source": [
    "### Let's explore.\n",
    "Discover a set of powerful techniques that can significantly improve the performance of our Python code. While these methods may seem insignificant at first, they have the potential to greatly enhance efficiency. Let's take a closer look at these nine methodologies that can revolutionize the way we write and optimize Python code.\n",
    "\n",
    "\n",
    "   "
   ]
  },
  {
   "cell_type": "markdown",
   "id": "b65b19f2-b143-4e41-a44d-299c2e8af119",
   "metadata": {},
   "source": [
    "#### 1. The \"join()\" method and the \"+\" operator.\n",
    "     Are we looking to concatenate strings faster? Look no further than the \"join()\" method and the \"+\" operator. To get the most out of your string concatenation, it's important to skillfully choose between these two options. So why wait? Improve your string concatenation today with these powerful tools.\n",
    "    \n",
    "##### There are essentially two methods for string concatenation in Python:\n",
    "\n",
    "###### 1. Utilize the join() function to merge a list of strings into a single string.\n",
    "###### 2. Use the + or += symbol to append each string into one.\n",
    "The question is: which method is more efficie- nt?\n",
    "Actions speak louder than words, let's create three distinct functions for concatenating identical strings:trings:"
   ]
  },
  {
   "cell_type": "code",
   "execution_count": 3,
   "id": "5f453955-f3e6-4b7a-b36b-d4c882719519",
   "metadata": {},
   "outputs": [
    {
     "name": "stdout",
     "output_type": "stream",
     "text": [
      "0.006282500005909242\n",
      "0.003976000007241964\n",
      "0.0010971000010613352\n"
     ]
    }
   ],
   "source": [
    "import timeit\n",
    "\n",
    "mylist = [\"Samuel\", \"Zen\", \"was\", \"playing\"]\n",
    "\n",
    "\n",
    "#1. Using '+' Operator\n",
    "def concat_plus():\n",
    "    result = \"\"\n",
    "    for word in mylist:\n",
    "        result += word + \" \"\n",
    "    return result\n",
    "\n",
    "\n",
    "#2. Using 'join()' method\n",
    "def concat_join():\n",
    "    return \" \".join(mylist)\n",
    "\n",
    "\n",
    "# Direct concatenation without the list\n",
    "def concat_directly():\n",
    "    return \"Samuel\" + \"Zen\" + \"was\" + \"playing\"\n",
    "    \n",
    "print(timeit.timeit(concat_plus, number=10000))\n",
    "print(timeit.timeit(concat_join, number=10000))\n",
    "print(timeit.timeit(concat_directly, number=10000))"
   ]
  },
  {
   "cell_type": "markdown",
   "id": "326879b1-5636-42bb-8b25-e9193ecc7ae2",
   "metadata": {},
   "source": [
    "- The join() method proves to be a more efficient approach for concatenating a list of strings compared to adding the strings individually in a loop. This is because strings are immutable in Python, leading to the creation of a new string and copying of the old one with each += operation, which is computationally expensive. In contrast, the .join() method is optimized for joining a sequence of strings by precalculating the resulting string's size and constructing it in one go. By eliminating the overhead associated with the += operation in a loop, the .join() method demonstrates faster performance.\n",
    "  \r",
    "."
   ]
  },
  {
   "cell_type": "markdown",
   "id": "0f7ef2ec-5a24-4a9b-bb7c-4b16b1b35842",
   "metadata": {},
   "source": [
    "### 2. Opt for \"[]\" instead of \"list()\" for quicker list creation.\n",
    "##### There are two primary methods:\n",
    "\r\n",
    "1. Utilize the list() function\r\n",
    "2. Access the elements directly using[]\r\n",
    "\r\n",
    "We will employ a basic code snippet to evaluate their efficiency."
   ]
  },
  {
   "cell_type": "code",
   "execution_count": 5,
   "id": "a6ebe6d6-cdab-4ac7-9b4d-a19cacfc5c6b",
   "metadata": {},
   "outputs": [
    {
     "name": "stdout",
     "output_type": "stream",
     "text": [
      "0.3436174999951618\n",
      "0.8438053999998374\n"
     ]
    }
   ],
   "source": [
    "#1. Using list()\n",
    "import timeit\n",
    "\n",
    "print(timeit.timeit('[]', number=10 ** 7))\n",
    "\n",
    "# Using directly []\n",
    "print(timeit.timeit(list, number=10 ** 7))\n"
   ]
  },
  {
   "cell_type": "markdown",
   "id": "d3218b34-9834-4cc5-80a3-d9eb71dc718c",
   "metadata": {},
   "source": [
    " Using the [] directly is faster than executing the list() function. This is because [] is a literal syntax, whereas list() is a constructor call. Invoking a function requires additional time, without question.)."
   ]
  },
  {
   "cell_type": "markdown",
   "id": "23831e65-6b24-456d-8969-c67513a73ace",
   "metadata": {},
   "source": [
    "### 3. Utilizing a Set Instead of a List for Swift Membership Testing:\r\n",
    "The efficiency of a membership verification process is greatly influenced by the choice of data structures employed."
   ]
  },
  {
   "cell_type": "code",
   "execution_count": 6,
   "id": "5535e4e6-e6c8-40b6-9acd-fcca8a838f1d",
   "metadata": {},
   "outputs": [
    {
     "name": "stdout",
     "output_type": "stream",
     "text": [
      "0.03090399999928195\n",
      "9.810000483412296e-05\n"
     ]
    }
   ],
   "source": [
    "import timeit\n",
    "\n",
    "large_dataset = range(100000)\n",
    "search_element = 2077\n",
    "\n",
    "large_list = list(large_dataset)\n",
    "large_set = set(large_dataset)\n",
    "\n",
    "\n",
    "def list_membership_test():\n",
    "    return search_element in large_list\n",
    "\n",
    "\n",
    "def set_membership_test():\n",
    "    return search_element in large_set\n",
    "\n",
    "\n",
    "print(timeit.timeit(list_membership_test, number=1000))\n",
    " \n",
    "print(timeit.timeit(set_membership_test, number=1000))\n"
   ]
  },
  {
   "cell_type": "markdown",
   "id": "7c1931c0-9094-427a-977a-f316b9349f63",
   "metadata": {},
   "source": [
    "- The reason why membership testing in a set is much faster than in a list is due to the underlying data structure used in Python. In lists, membership testing is performed by iterating over each element until the desired element is found or the end of the list is reached. This process has a time complexity of O(n), where n is the number of elements in the list.\n",
    "- \n",
    "On the other hand, sets in Python are implemented as hash tables. When checking for membership in a set, Python utilizes a hashing mechanism. This hashing mechanism has an average time complexity of O(1), which means that the time it takes to check for membership in a set does not depend on the number of elements in the set. By choosing the right data structure, such as a set for membership testing, we can significantly speed up our code."
   ]
  },
  {
   "cell_type": "markdown",
   "id": "ab46a070-f79f-41a2-bd12-0eb6d1aaa360",
   "metadata": {},
   "source": [
    "### 4. Enhanced Data Generation: Employ Comprehensions Instead of For Loops\r\n",
    "Python encompasses four distinct types of comprehensions, namely list, dictionary, set, and generator. These comprehensions not only offer a more succinct syntax for constructing related data structures but also exhibit superior performance compared to traditional for loops. This efficiency is achieved through optimization in Python's C implementation ."
   ]
  },
  {
   "cell_type": "code",
   "execution_count": 7,
   "id": "3030e230-6879-4d55-bed5-17b401f91af0",
   "metadata": {},
   "outputs": [
    {
     "name": "stdout",
     "output_type": "stream",
     "text": [
      "1.1150366999936523\n",
      "0.8076638000056846\n"
     ]
    }
   ],
   "source": [
    "import timeit\n",
    "\n",
    "\n",
    "def generate_squares_for_loop():\n",
    "    squares = []\n",
    "    for i in range(1000):\n",
    "        squares.append(i * i)\n",
    "    return squares\n",
    "\n",
    "\n",
    "def generate_squares_comprehension():\n",
    "    return [i * i for i in range(1000)]\n",
    "\n",
    "\n",
    "print(timeit.timeit(generate_squares_for_loop, number=10000))\n",
    "print(timeit.timeit(generate_squares_comprehension, number=10000))\n"
   ]
  },
  {
   "cell_type": "markdown",
   "id": "b019d5d0-e03a-4ea8-8d6a-1485513fe466",
   "metadata": {},
   "source": [
    "### 5.Faster Loops: Give Priority to Local Variables\r\n",
    "When programming in Python, it is more efficient to access local variables compared to global variables or object attributes.\r\n",
    "\r\n",
    "Here is an example to demonstrate this:"
   ]
  },
  {
   "cell_type": "code",
   "execution_count": 8,
   "id": "0340f923-eb6a-47ad-8673-7c6d856e5cea",
   "metadata": {},
   "outputs": [
    {
     "name": "stdout",
     "output_type": "stream",
     "text": [
      "0.11376849999942351\n",
      "0.07857549999607727\n"
     ]
    }
   ],
   "source": [
    "import timeit\n",
    "\n",
    "\n",
    "class Example:\n",
    "    def __init__(self):\n",
    "        self.value = 0\n",
    "\n",
    "\n",
    "obj = Example()\n",
    "\n",
    "\n",
    "def test_dot_notation():\n",
    "    for _ in range(1000):\n",
    "        obj.value += 1\n",
    "\n",
    "\n",
    "def test_local_variable():\n",
    "    value = obj.value\n",
    "    for _ in range(1000):\n",
    "        value += 1\n",
    "    obj.value = value\n",
    "\n",
    "\n",
    "print(timeit.timeit(test_dot_notation, number=1000))\n",
    "print(timeit.timeit(test_local_variable, number=1000))\n"
   ]
  },
  {
   "cell_type": "markdown",
   "id": "43e668ea-d8fc-497e-a8e6-45561a6f8e46",
   "metadata": {},
   "source": [
    "- Python operates in the following manner. In a logical sense, once a function is compiled, the internal variables within it are readily accessible, while external variables require some time to be fetched. This may seem insignificant, but we can exploit this fact to enhance the efficiency of our code, particularly when dealing with substantial amounts of data."
   ]
  },
  {
   "cell_type": "markdown",
   "id": "5fdd070e-184e-4108-949c-a2bce95cbbad",
   "metadata": {},
   "source": [
    "### 6. Enhanced Performance: Give Priority to Pre-Existing Modules and Libraries\r\n",
    "When referring to Python, engineers typically refer to CPython as the default implementation. This is because CPython is the default and most commonly utilized implementation of the Python language.\r\n",
    "\r\n",
    "Considering that a significant portion of its built-in modules and libraries are coded in C, a faster and more low-level language, it is advisable to make the most of these pre-existing resources and refrain from duplicating efforts unnecessarily."
   ]
  },
  {
   "cell_type": "code",
   "execution_count": 9,
   "id": "33e333ee-b5b4-4c2f-afdd-8fe9151f47f2",
   "metadata": {},
   "outputs": [
    {
     "name": "stdout",
     "output_type": "stream",
     "text": [
      "0.013920299999881536\n",
      "0.006001200003083795\n"
     ]
    }
   ],
   "source": [
    "import timeit\n",
    "import random\n",
    "from collections import Counter\n",
    "\n",
    "\n",
    "def count_frequency_custom(lst):\n",
    "    frequency = {}\n",
    "    for item in lst:\n",
    "        if item in frequency:\n",
    "            frequency[item] += 1\n",
    "        else:\n",
    "            frequency[item] = 1\n",
    "    return frequency\n",
    "\n",
    "\n",
    "def count_frequency_builtin(lst):\n",
    "    return Counter(lst)\n",
    "\n",
    "\n",
    "large_list = [random.randint(0, 100) for _ in range(1000)]\n",
    "\n",
    "print(timeit.timeit(lambda: count_frequency_custom(large_list), number=100))\n",
    "print(timeit.timeit(lambda: count_frequency_builtin(large_list), number=100))\n"
   ]
  },
  {
   "cell_type": "markdown",
   "id": "4f9d8132-1ed4-4656-bbbb-f7abe0c527f8",
   "metadata": {},
   "source": [
    "The program above demonstrates a comparison between two methods for calculating the frequency of elements in a list. Utilizing the built-in Counter from the collections module proves to be more efficient, cleaner, and superior to manually coding a for loop."
   ]
  },
  {
   "cell_type": "markdown",
   "id": "71e26af3-ad2e-4f1c-91d9-86f0dcab8abd",
   "metadata": {},
   "source": [
    "### 7.  Enhance Function Calls with Cache Decorator for Efficient Memoization\r\n",
    "Memoization is a widely employed strategy to prevent redundant computations and enhance program performance\r\n",
    "\r\n",
    "Thankfully, there is no need for us to creaour wn caching mechanism in many scenarios, as Python offers a built-in decorator specifically designed for tt:k — @functools.cache.\r\n",
    "\r\n",
    "To illustrate, consider the following code snippet that executes two functions for generating Fibonacci numbers. While one function utilizes a caching decorator, the other does not:"
   ]
  },
  {
   "cell_type": "code",
   "execution_count": 10,
   "id": "34a597c8-e57f-46f6-9c92-823d54cbdd32",
   "metadata": {},
   "outputs": [
    {
     "name": "stdout",
     "output_type": "stream",
     "text": [
      "0.31285280000884086\n",
      "5.119999696034938e-05\n"
     ]
    }
   ],
   "source": [
    "import timeit\n",
    "import functools\n",
    "\n",
    "\n",
    "def fibonacci(n):\n",
    "    if n in (0, 1):\n",
    "        return n\n",
    "    return fibonacci(n - 1) + fibonacci(n - 2)\n",
    "\n",
    "\n",
    "@functools.cache\n",
    "def fibonacci_cached(n):\n",
    "    if n in (0, 1):\n",
    "        return n\n",
    "    return fibonacci_cached(n - 1) + fibonacci_cached(n - 2)\n",
    "\n",
    "\n",
    "# Execution time for each\n",
    "print(timeit.timeit(lambda: fibonacci(30), number=1))\n",
    "print(timeit.timeit(lambda: fibonacci_cached(30), number=1))\n"
   ]
  },
  {
   "cell_type": "markdown",
   "id": "1a1347cd-bcbd-4f26-a290-2269823df077",
   "metadata": {},
   "source": [
    "- The outcome demonstrates the efficiency boost provided by the functools.cache decorator in speeding up our code.\r\n",
    "\r\n",
    "The standard fibonacci function is not efficient as it recalculates the same Fibonacci numbers multiple times while calculating fibonacci(30).\r\n",
    "\r\n",
    "On the other hand, the cached version is notably faster as it stores the results of previous calculations. Consequently, each Fibonacci number is computed only once, and subsequent calls with the same arguments are fetched from the cache.\r\n",
    "\r\n",
    "Simply incorporating a built-in decorator can lead to such a substantial enhancement, exemplifying the essence of being Pythonic."
   ]
  },
  {
   "cell_type": "markdown",
   "id": "8492a093-195d-4e39-a0cd-bc642906f3b3",
   "metadata": {},
   "source": [
    "### 8. When creating an infinite while loop, the options are while True or while 1.\r\n",
    "\r\n",
    "The performance variance between the two is typically insignificant. However, it is interesting to note that while 1 is marginally quicker.\r\n",
    "\r\n",
    "This is due to the fact that 1 is a literal value, whereas True is a global name that must be searched for in Python's global scope, resulting in a small amount of overhead.\r\n",
    "\r\n",
    "Let's further examine the actual comparison of these two methods in a code snippet:"
   ]
  },
  {
   "cell_type": "code",
   "execution_count": 11,
   "id": "a2ead996-3c12-4350-9508-a525f2cbda70",
   "metadata": {},
   "outputs": [
    {
     "name": "stdout",
     "output_type": "stream",
     "text": [
      "0.6190833000000566\n",
      "0.6078440999990562\n"
     ]
    }
   ],
   "source": [
    "import timeit\n",
    "\n",
    "def loop_with_true():\n",
    "    i = 0\n",
    "    while True:\n",
    "        if i >= 1000:\n",
    "            break\n",
    "        i += 1\n",
    "\n",
    "\n",
    "def loop_with_one():\n",
    "    i = 0\n",
    "    while 1:\n",
    "        if i >= 1000:\n",
    "            break\n",
    "        i += 1\n",
    "\n",
    "\n",
    "print(timeit.timeit(loop_with_true, number=10000))\n",
    "print(timeit.timeit(loop_with_one, number=10000))\n"
   ]
  },
  {
   "cell_type": "markdown",
   "id": "ced1d769-86e5-49ae-b288-0fbfbd870a26",
   "metadata": {},
   "source": [
    "- It is evident that while 1 is marginally quicker.\n",
    "\r\n",
    "Nevertheless, contemporary Python interpreters (such as CPython) are extensively optimized, rendering these variances generally inconsequential. Therefore, there is no need for concern regarding this minimal distinction. Additionally, it is worth noting that while True is more easily readable than while 1."
   ]
  },
  {
   "cell_type": "markdown",
   "id": "63efd91f-b23f-4094-a622-a692bff36e45",
   "metadata": {},
   "source": [
    "### 9. Enhancing Start-Up Time: Optimize Python Module Imports\r\n",
    "Traditionally, it is customary to import all modules at the beginning of a Python script \n",
    "\r\n",
    "However, this practice is not mandatory.\r\n",
    "\r\n",
    "Moreover, when dealing with sizable modules, it is advisable to import them only when necessary."
   ]
  },
  {
   "cell_type": "code",
   "execution_count": 14,
   "id": "6945c894-1f15-4dc7-9011-99a6af0a0426",
   "metadata": {},
   "outputs": [],
   "source": [
    "def myfunction():\n",
    "    import heavy_module\n",
    "    ### Rest of the function"
   ]
  },
  {
   "cell_type": "markdown",
   "id": "b7662396-8b68-4536-9399-f415e2b7b8f9",
   "metadata": {},
   "source": [
    "- In the provided code, the heavy_module is imported within a function. This demonstrates the concept of \"lazy loading\", where the import is postponed until the my_function is invoked.\r\n",
    "- \r\n",
    "This approach offers the advantage of resource conservation and reduced startup time for our script if my_function is not utilized during its execution."
   ]
  },
  {
   "cell_type": "code",
   "execution_count": null,
   "id": "081b2250-2a21-4bf1-8648-bffa1a7f579c",
   "metadata": {},
   "outputs": [],
   "source": []
  }
 ],
 "metadata": {
  "kernelspec": {
   "display_name": "Python 3 (ipykernel)",
   "language": "python",
   "name": "python3"
  },
  "language_info": {
   "codemirror_mode": {
    "name": "ipython",
    "version": 3
   },
   "file_extension": ".py",
   "mimetype": "text/x-python",
   "name": "python",
   "nbconvert_exporter": "python",
   "pygments_lexer": "ipython3",
   "version": "3.11.7"
  },
  "widgets": {
   "application/vnd.jupyter.widget-state+json": {
    "state": {},
    "version_major": 2,
    "version_minor": 0
   }
  }
 },
 "nbformat": 4,
 "nbformat_minor": 5
}
